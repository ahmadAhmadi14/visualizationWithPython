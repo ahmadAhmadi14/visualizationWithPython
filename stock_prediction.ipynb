{
  "nbformat": 4,
  "nbformat_minor": 0,
  "metadata": {
    "colab": {
      "name": "stock-prediction.ipynb",
      "provenance": [],
      "collapsed_sections": []
    },
    "kernelspec": {
      "name": "python3",
      "display_name": "Python 3"
    },
    "language_info": {
      "name": "python"
    }
  },
  "cells": [
    {
      "cell_type": "code",
      "source": [
        "!pip install yfinance"
      ],
      "metadata": {
        "colab": {
          "base_uri": "https://localhost:8080/"
        },
        "id": "Cp1pB0JmBpUo",
        "outputId": "43a3058e-8deb-44de-a3be-5ab1cef49393"
      },
      "execution_count": 1,
      "outputs": [
        {
          "output_type": "stream",
          "name": "stdout",
          "text": [
            "Looking in indexes: https://pypi.org/simple, https://us-python.pkg.dev/colab-wheels/public/simple/\n",
            "Collecting yfinance\n",
            "  Downloading yfinance-0.1.74-py2.py3-none-any.whl (27 kB)\n",
            "Requirement already satisfied: lxml>=4.5.1 in /usr/local/lib/python3.7/dist-packages (from yfinance) (4.9.1)\n",
            "Requirement already satisfied: multitasking>=0.0.7 in /usr/local/lib/python3.7/dist-packages (from yfinance) (0.0.11)\n",
            "Collecting requests>=2.26\n",
            "  Downloading requests-2.28.1-py3-none-any.whl (62 kB)\n",
            "\u001b[K     |████████████████████████████████| 62 kB 1.7 MB/s \n",
            "\u001b[?25hRequirement already satisfied: pandas>=0.24.0 in /usr/local/lib/python3.7/dist-packages (from yfinance) (1.3.5)\n",
            "Requirement already satisfied: numpy>=1.15 in /usr/local/lib/python3.7/dist-packages (from yfinance) (1.21.6)\n",
            "Requirement already satisfied: python-dateutil>=2.7.3 in /usr/local/lib/python3.7/dist-packages (from pandas>=0.24.0->yfinance) (2.8.2)\n",
            "Requirement already satisfied: pytz>=2017.3 in /usr/local/lib/python3.7/dist-packages (from pandas>=0.24.0->yfinance) (2022.1)\n",
            "Requirement already satisfied: six>=1.5 in /usr/local/lib/python3.7/dist-packages (from python-dateutil>=2.7.3->pandas>=0.24.0->yfinance) (1.15.0)\n",
            "Requirement already satisfied: urllib3<1.27,>=1.21.1 in /usr/local/lib/python3.7/dist-packages (from requests>=2.26->yfinance) (1.24.3)\n",
            "Requirement already satisfied: idna<4,>=2.5 in /usr/local/lib/python3.7/dist-packages (from requests>=2.26->yfinance) (2.10)\n",
            "Requirement already satisfied: charset-normalizer<3,>=2 in /usr/local/lib/python3.7/dist-packages (from requests>=2.26->yfinance) (2.1.0)\n",
            "Requirement already satisfied: certifi>=2017.4.17 in /usr/local/lib/python3.7/dist-packages (from requests>=2.26->yfinance) (2022.6.15)\n",
            "Installing collected packages: requests, yfinance\n",
            "  Attempting uninstall: requests\n",
            "    Found existing installation: requests 2.23.0\n",
            "    Uninstalling requests-2.23.0:\n",
            "      Successfully uninstalled requests-2.23.0\n",
            "Successfully installed requests-2.28.1 yfinance-0.1.74\n"
          ]
        }
      ]
    },
    {
      "cell_type": "code",
      "execution_count": 2,
      "metadata": {
        "id": "64LooOvwTkK2"
      },
      "outputs": [],
      "source": [
        "#### Import the libraries/packages\n",
        "import numpy as np\n",
        "import pandas as pd\n",
        "import math\n",
        "import yfinance as yf\n",
        "from sklearn.preprocessing import MinMaxScaler\n",
        "from keras.models import Sequential\n",
        "from keras.layers import Dense, LSTM\n",
        "import matplotlib.pyplot as plt\n",
        "plt.style.use('fivethirtyeight')"
      ]
    },
    {
      "cell_type": "code",
      "source": [
        "# get the stock quote\n",
        "df = yf.download('INCO.JK', data_source ='yahoo', start = '2022-03-12', end = '2022-08-12')\n",
        "#show the data\n",
        "df"
      ],
      "metadata": {
        "id": "AP6xIycVTwKD",
        "colab": {
          "base_uri": "https://localhost:8080/",
          "height": 673
        },
        "outputId": "cbc2314c-3a3e-4dbf-f288-04172ef52aee"
      },
      "execution_count": 3,
      "outputs": [
        {
          "output_type": "stream",
          "name": "stdout",
          "text": [
            "\r[*********************100%***********************]  1 of 1 completed\n"
          ]
        },
        {
          "output_type": "execute_result",
          "data": {
            "text/plain": [
              "              Open    High     Low   Close  Adj Close    Volume\n",
              "Date                                                           \n",
              "2022-03-14  6125.0  6150.0  5700.0  5700.0     5700.0  37807200\n",
              "2022-03-15  5500.0  5850.0  5500.0  5600.0     5600.0  32818500\n",
              "2022-03-16  5750.0  5750.0  5450.0  5600.0     5600.0  21170000\n",
              "2022-03-17  5600.0  5700.0  5525.0  5575.0     5575.0  14352700\n",
              "2022-03-18  5600.0  5850.0  5600.0  5800.0     5800.0  26057800\n",
              "...            ...     ...     ...     ...        ...       ...\n",
              "2022-08-05  6125.0  6200.0  6025.0  6100.0     6100.0  17870000\n",
              "2022-08-08  6100.0  6325.0  6050.0  6325.0     6325.0  15268000\n",
              "2022-08-09  6450.0  6800.0  6350.0  6750.0     6750.0  37749600\n",
              "2022-08-10  6800.0  6800.0  6525.0  6575.0     6575.0  20632100\n",
              "2022-08-11  6725.0  6950.0  6675.0  6925.0     6925.0  30749500\n",
              "\n",
              "[99 rows x 6 columns]"
            ],
            "text/html": [
              "\n",
              "  <div id=\"df-dd145ee6-75cc-43c4-8846-a3870ca6f290\">\n",
              "    <div class=\"colab-df-container\">\n",
              "      <div>\n",
              "<style scoped>\n",
              "    .dataframe tbody tr th:only-of-type {\n",
              "        vertical-align: middle;\n",
              "    }\n",
              "\n",
              "    .dataframe tbody tr th {\n",
              "        vertical-align: top;\n",
              "    }\n",
              "\n",
              "    .dataframe thead th {\n",
              "        text-align: right;\n",
              "    }\n",
              "</style>\n",
              "<table border=\"1\" class=\"dataframe\">\n",
              "  <thead>\n",
              "    <tr style=\"text-align: right;\">\n",
              "      <th></th>\n",
              "      <th>Open</th>\n",
              "      <th>High</th>\n",
              "      <th>Low</th>\n",
              "      <th>Close</th>\n",
              "      <th>Adj Close</th>\n",
              "      <th>Volume</th>\n",
              "    </tr>\n",
              "    <tr>\n",
              "      <th>Date</th>\n",
              "      <th></th>\n",
              "      <th></th>\n",
              "      <th></th>\n",
              "      <th></th>\n",
              "      <th></th>\n",
              "      <th></th>\n",
              "    </tr>\n",
              "  </thead>\n",
              "  <tbody>\n",
              "    <tr>\n",
              "      <th>2022-03-14</th>\n",
              "      <td>6125.0</td>\n",
              "      <td>6150.0</td>\n",
              "      <td>5700.0</td>\n",
              "      <td>5700.0</td>\n",
              "      <td>5700.0</td>\n",
              "      <td>37807200</td>\n",
              "    </tr>\n",
              "    <tr>\n",
              "      <th>2022-03-15</th>\n",
              "      <td>5500.0</td>\n",
              "      <td>5850.0</td>\n",
              "      <td>5500.0</td>\n",
              "      <td>5600.0</td>\n",
              "      <td>5600.0</td>\n",
              "      <td>32818500</td>\n",
              "    </tr>\n",
              "    <tr>\n",
              "      <th>2022-03-16</th>\n",
              "      <td>5750.0</td>\n",
              "      <td>5750.0</td>\n",
              "      <td>5450.0</td>\n",
              "      <td>5600.0</td>\n",
              "      <td>5600.0</td>\n",
              "      <td>21170000</td>\n",
              "    </tr>\n",
              "    <tr>\n",
              "      <th>2022-03-17</th>\n",
              "      <td>5600.0</td>\n",
              "      <td>5700.0</td>\n",
              "      <td>5525.0</td>\n",
              "      <td>5575.0</td>\n",
              "      <td>5575.0</td>\n",
              "      <td>14352700</td>\n",
              "    </tr>\n",
              "    <tr>\n",
              "      <th>2022-03-18</th>\n",
              "      <td>5600.0</td>\n",
              "      <td>5850.0</td>\n",
              "      <td>5600.0</td>\n",
              "      <td>5800.0</td>\n",
              "      <td>5800.0</td>\n",
              "      <td>26057800</td>\n",
              "    </tr>\n",
              "    <tr>\n",
              "      <th>...</th>\n",
              "      <td>...</td>\n",
              "      <td>...</td>\n",
              "      <td>...</td>\n",
              "      <td>...</td>\n",
              "      <td>...</td>\n",
              "      <td>...</td>\n",
              "    </tr>\n",
              "    <tr>\n",
              "      <th>2022-08-05</th>\n",
              "      <td>6125.0</td>\n",
              "      <td>6200.0</td>\n",
              "      <td>6025.0</td>\n",
              "      <td>6100.0</td>\n",
              "      <td>6100.0</td>\n",
              "      <td>17870000</td>\n",
              "    </tr>\n",
              "    <tr>\n",
              "      <th>2022-08-08</th>\n",
              "      <td>6100.0</td>\n",
              "      <td>6325.0</td>\n",
              "      <td>6050.0</td>\n",
              "      <td>6325.0</td>\n",
              "      <td>6325.0</td>\n",
              "      <td>15268000</td>\n",
              "    </tr>\n",
              "    <tr>\n",
              "      <th>2022-08-09</th>\n",
              "      <td>6450.0</td>\n",
              "      <td>6800.0</td>\n",
              "      <td>6350.0</td>\n",
              "      <td>6750.0</td>\n",
              "      <td>6750.0</td>\n",
              "      <td>37749600</td>\n",
              "    </tr>\n",
              "    <tr>\n",
              "      <th>2022-08-10</th>\n",
              "      <td>6800.0</td>\n",
              "      <td>6800.0</td>\n",
              "      <td>6525.0</td>\n",
              "      <td>6575.0</td>\n",
              "      <td>6575.0</td>\n",
              "      <td>20632100</td>\n",
              "    </tr>\n",
              "    <tr>\n",
              "      <th>2022-08-11</th>\n",
              "      <td>6725.0</td>\n",
              "      <td>6950.0</td>\n",
              "      <td>6675.0</td>\n",
              "      <td>6925.0</td>\n",
              "      <td>6925.0</td>\n",
              "      <td>30749500</td>\n",
              "    </tr>\n",
              "  </tbody>\n",
              "</table>\n",
              "<p>99 rows × 6 columns</p>\n",
              "</div>\n",
              "      <button class=\"colab-df-convert\" onclick=\"convertToInteractive('df-dd145ee6-75cc-43c4-8846-a3870ca6f290')\"\n",
              "              title=\"Convert this dataframe to an interactive table.\"\n",
              "              style=\"display:none;\">\n",
              "        \n",
              "  <svg xmlns=\"http://www.w3.org/2000/svg\" height=\"24px\"viewBox=\"0 0 24 24\"\n",
              "       width=\"24px\">\n",
              "    <path d=\"M0 0h24v24H0V0z\" fill=\"none\"/>\n",
              "    <path d=\"M18.56 5.44l.94 2.06.94-2.06 2.06-.94-2.06-.94-.94-2.06-.94 2.06-2.06.94zm-11 1L8.5 8.5l.94-2.06 2.06-.94-2.06-.94L8.5 2.5l-.94 2.06-2.06.94zm10 10l.94 2.06.94-2.06 2.06-.94-2.06-.94-.94-2.06-.94 2.06-2.06.94z\"/><path d=\"M17.41 7.96l-1.37-1.37c-.4-.4-.92-.59-1.43-.59-.52 0-1.04.2-1.43.59L10.3 9.45l-7.72 7.72c-.78.78-.78 2.05 0 2.83L4 21.41c.39.39.9.59 1.41.59.51 0 1.02-.2 1.41-.59l7.78-7.78 2.81-2.81c.8-.78.8-2.07 0-2.86zM5.41 20L4 18.59l7.72-7.72 1.47 1.35L5.41 20z\"/>\n",
              "  </svg>\n",
              "      </button>\n",
              "      \n",
              "  <style>\n",
              "    .colab-df-container {\n",
              "      display:flex;\n",
              "      flex-wrap:wrap;\n",
              "      gap: 12px;\n",
              "    }\n",
              "\n",
              "    .colab-df-convert {\n",
              "      background-color: #E8F0FE;\n",
              "      border: none;\n",
              "      border-radius: 50%;\n",
              "      cursor: pointer;\n",
              "      display: none;\n",
              "      fill: #1967D2;\n",
              "      height: 32px;\n",
              "      padding: 0 0 0 0;\n",
              "      width: 32px;\n",
              "    }\n",
              "\n",
              "    .colab-df-convert:hover {\n",
              "      background-color: #E2EBFA;\n",
              "      box-shadow: 0px 1px 2px rgba(60, 64, 67, 0.3), 0px 1px 3px 1px rgba(60, 64, 67, 0.15);\n",
              "      fill: #174EA6;\n",
              "    }\n",
              "\n",
              "    [theme=dark] .colab-df-convert {\n",
              "      background-color: #3B4455;\n",
              "      fill: #D2E3FC;\n",
              "    }\n",
              "\n",
              "    [theme=dark] .colab-df-convert:hover {\n",
              "      background-color: #434B5C;\n",
              "      box-shadow: 0px 1px 3px 1px rgba(0, 0, 0, 0.15);\n",
              "      filter: drop-shadow(0px 1px 2px rgba(0, 0, 0, 0.3));\n",
              "      fill: #FFFFFF;\n",
              "    }\n",
              "  </style>\n",
              "\n",
              "      <script>\n",
              "        const buttonEl =\n",
              "          document.querySelector('#df-dd145ee6-75cc-43c4-8846-a3870ca6f290 button.colab-df-convert');\n",
              "        buttonEl.style.display =\n",
              "          google.colab.kernel.accessAllowed ? 'block' : 'none';\n",
              "\n",
              "        async function convertToInteractive(key) {\n",
              "          const element = document.querySelector('#df-dd145ee6-75cc-43c4-8846-a3870ca6f290');\n",
              "          const dataTable =\n",
              "            await google.colab.kernel.invokeFunction('convertToInteractive',\n",
              "                                                     [key], {});\n",
              "          if (!dataTable) return;\n",
              "\n",
              "          const docLinkHtml = 'Like what you see? Visit the ' +\n",
              "            '<a target=\"_blank\" href=https://colab.research.google.com/notebooks/data_table.ipynb>data table notebook</a>'\n",
              "            + ' to learn more about interactive tables.';\n",
              "          element.innerHTML = '';\n",
              "          dataTable['output_type'] = 'display_data';\n",
              "          await google.colab.output.renderOutput(dataTable, element);\n",
              "          const docLink = document.createElement('div');\n",
              "          docLink.innerHTML = docLinkHtml;\n",
              "          element.appendChild(docLink);\n",
              "        }\n",
              "      </script>\n",
              "    </div>\n",
              "  </div>\n",
              "  "
            ]
          },
          "metadata": {},
          "execution_count": 3
        }
      ]
    },
    {
      "cell_type": "code",
      "source": [
        "df.shape"
      ],
      "metadata": {
        "id": "ob0k2HEy-cu9",
        "colab": {
          "base_uri": "https://localhost:8080/"
        },
        "outputId": "40241b89-388d-4825-990e-6f511c85b8fe"
      },
      "execution_count": 4,
      "outputs": [
        {
          "output_type": "execute_result",
          "data": {
            "text/plain": [
              "(99, 6)"
            ]
          },
          "metadata": {},
          "execution_count": 4
        }
      ]
    },
    {
      "cell_type": "code",
      "source": [
        "#visualize the closing price history\n",
        "plt.title('Close Price History')\n",
        "plt.plot(df['Close'])\n",
        "plt.xlabel('Date', fontsize = 16)\n",
        "plt.ylabel('Close Price (IDR)', fontsize = 16)\n",
        "# Plotting a figure of width 6 and height 3\n",
        "## plt_stocks = plt.figure(figsize=(, 700))\n",
        "plt.show()"
      ],
      "metadata": {
        "colab": {
          "base_uri": "https://localhost:8080/",
          "height": 322
        },
        "id": "W2n-MrcPDKYF",
        "outputId": "ae708815-138a-41bd-f8e4-81af2b632b1a"
      },
      "execution_count": 5,
      "outputs": [
        {
          "output_type": "display_data",
          "data": {
            "text/plain": [
              "<Figure size 432x288 with 1 Axes>"
            ],
            "image/png": "[encoded data removed]"
          },
          "metadata": {}
        }
      ]
    },
    {
      "cell_type": "code",
      "source": [
        "# Create a new dataframe \n",
        "data = df.filter(['Close'])\n",
        "# Convert the dataframe to a numpy array\n",
        "dataset = data.values\n",
        "# get the number of rows to train the model on\n",
        "training_data_len = math.ceil(len(dataset)*.8)\n",
        "training_data_len"
      ],
      "metadata": {
        "colab": {
          "base_uri": "https://localhost:8080/"
        },
        "id": "_4UGbawSErBZ",
        "outputId": "70709b1a-e981-441c-9ae6-b41219cc6c87"
      },
      "execution_count": 6,
      "outputs": [
        {
          "output_type": "execute_result",
          "data": {
            "text/plain": [
              "80"
            ]
          },
          "metadata": {},
          "execution_count": 6
        }
      ]
    },
    {
      "cell_type": "code",
      "source": [
        "# scale the data\n",
        "scaler = MinMaxScaler(feature_range=(0,1))\n",
        "scaled_data = scaler.fit_transform(dataset)\n",
        "\n",
        "scaled_data"
      ],
      "metadata": {
        "colab": {
          "base_uri": "https://localhost:8080/"
        },
        "id": "eG-5OnNAQKA8",
        "outputId": "b1aa0471-c3f7-453c-8277-03b7b438cd84"
      },
      "execution_count": 7,
      "outputs": [
        {
          "output_type": "execute_result",
          "data": {
            "text/plain": [
              "array([[0.23815621],\n",
              "       [0.21254802],\n",
              "       [0.21254802],\n",
              "       [0.20614597],\n",
              "       [0.2637644 ],\n",
              "       [0.25096031],\n",
              "       [0.35339309],\n",
              "       [0.41741357],\n",
              "       [0.5134443 ],\n",
              "       [0.53265045],\n",
              "       [0.50704225],\n",
              "       [0.5006402 ],\n",
              "       [0.5006402 ],\n",
              "       [0.49423816],\n",
              "       [0.54545455],\n",
              "       [0.56466069],\n",
              "       [0.55825864],\n",
              "       [0.5262484 ],\n",
              "       [0.61587708],\n",
              "       [0.71830986],\n",
              "       [0.64788732],\n",
              "       [0.71190781],\n",
              "       [0.67989757],\n",
              "       [0.82074264],\n",
              "       [0.90396927],\n",
              "       [1.        ],\n",
              "       [0.94878361],\n",
              "       [0.82714469],\n",
              "       [0.81434059],\n",
              "       [0.75672215],\n",
              "       [0.62227913],\n",
              "       [0.61587708],\n",
              "       [0.64788732],\n",
              "       [0.61587708],\n",
              "       [0.51984635],\n",
              "       [0.5134443 ],\n",
              "       [0.48143406],\n",
              "       [0.54545455],\n",
              "       [0.64148528],\n",
              "       [0.59667093],\n",
              "       [0.73111396],\n",
              "       [0.82074264],\n",
              "       [0.75672215],\n",
              "       [0.78873239],\n",
              "       [0.72471191],\n",
              "       [0.7759283 ],\n",
              "       [0.83354673],\n",
              "       [0.88476312],\n",
              "       [0.80793854],\n",
              "       [0.74391805],\n",
              "       [0.73111396],\n",
              "       [0.73751601],\n",
              "       [0.7503201 ],\n",
              "       [0.73751601],\n",
              "       [0.67349552],\n",
              "       [0.62227913],\n",
              "       [0.62227913],\n",
              "       [0.55185659],\n",
              "       [0.59667093],\n",
              "       [0.54545455],\n",
              "       [0.48143406],\n",
              "       [0.58386684],\n",
              "       [0.50704225],\n",
              "       [0.41741357],\n",
              "       [0.39180538],\n",
              "       [0.2893726 ],\n",
              "       [0.27016645],\n",
              "       [0.25736236],\n",
              "       [0.22535211],\n",
              "       [0.14852753],\n",
              "       [0.17413572],\n",
              "       [0.17413572],\n",
              "       [0.11651729],\n",
              "       [0.07170294],\n",
              "       [0.13572343],\n",
              "       [0.09731114],\n",
              "       [0.09731114],\n",
              "       [0.0653009 ],\n",
              "       [0.07810499],\n",
              "       [0.        ],\n",
              "       [0.02816901],\n",
              "       [0.09731114],\n",
              "       [0.09731114],\n",
              "       [0.11011524],\n",
              "       [0.23815621],\n",
              "       [0.20614597],\n",
              "       [0.23815621],\n",
              "       [0.22535211],\n",
              "       [0.35979513],\n",
              "       [0.34058899],\n",
              "       [0.40460948],\n",
              "       [0.32778489],\n",
              "       [0.34058899],\n",
              "       [0.34058899],\n",
              "       [0.34058899],\n",
              "       [0.39820743],\n",
              "       [0.50704225],\n",
              "       [0.46222791],\n",
              "       [0.55185659]])"
            ]
          },
          "metadata": {},
          "execution_count": 7
        }
      ]
    },
    {
      "cell_type": "code",
      "source": [
        "#Create the scaled training data set\n",
        "train_data = scaled_data[0:training_data_len , :]\n",
        "# Split the data into x_train and y_train data sets\n",
        "x_train = []\n",
        "y_train = []\n",
        "\n",
        "for i in range(60, len(train_data)):\n",
        "  x_train.append(train_data[i-60: i, 0])\n",
        "  y_train.append(train_data[i,0])\n",
        "  if i <= 61:\n",
        "    print(x_train)\n",
        "    print(y_train)\n",
        "    print()"
      ],
      "metadata": {
        "colab": {
          "base_uri": "https://localhost:8080/"
        },
        "id": "wBbtW9mTQoEj",
        "outputId": "205a4c5c-741d-419e-c81c-b7dee712d120"
      },
      "execution_count": 8,
      "outputs": [
        {
          "output_type": "stream",
          "name": "stdout",
          "text": [
            "[array([0.23815621, 0.21254802, 0.21254802, 0.20614597, 0.2637644 ,\n",
            "       0.25096031, 0.35339309, 0.41741357, 0.5134443 , 0.53265045,\n",
            "       0.50704225, 0.5006402 , 0.5006402 , 0.49423816, 0.54545455,\n",
            "       0.56466069, 0.55825864, 0.5262484 , 0.61587708, 0.71830986,\n",
            "       0.64788732, 0.71190781, 0.67989757, 0.82074264, 0.90396927,\n",
            "       1.        , 0.94878361, 0.82714469, 0.81434059, 0.75672215,\n",
            "       0.62227913, 0.61587708, 0.64788732, 0.61587708, 0.51984635,\n",
            "       0.5134443 , 0.48143406, 0.54545455, 0.64148528, 0.59667093,\n",
            "       0.73111396, 0.82074264, 0.75672215, 0.78873239, 0.72471191,\n",
            "       0.7759283 , 0.83354673, 0.88476312, 0.80793854, 0.74391805,\n",
            "       0.73111396, 0.73751601, 0.7503201 , 0.73751601, 0.67349552,\n",
            "       0.62227913, 0.62227913, 0.55185659, 0.59667093, 0.54545455])]\n",
            "[0.4814340588988475]\n",
            "\n",
            "[array([0.23815621, 0.21254802, 0.21254802, 0.20614597, 0.2637644 ,\n",
            "       0.25096031, 0.35339309, 0.41741357, 0.5134443 , 0.53265045,\n",
            "       0.50704225, 0.5006402 , 0.5006402 , 0.49423816, 0.54545455,\n",
            "       0.56466069, 0.55825864, 0.5262484 , 0.61587708, 0.71830986,\n",
            "       0.64788732, 0.71190781, 0.67989757, 0.82074264, 0.90396927,\n",
            "       1.        , 0.94878361, 0.82714469, 0.81434059, 0.75672215,\n",
            "       0.62227913, 0.61587708, 0.64788732, 0.61587708, 0.51984635,\n",
            "       0.5134443 , 0.48143406, 0.54545455, 0.64148528, 0.59667093,\n",
            "       0.73111396, 0.82074264, 0.75672215, 0.78873239, 0.72471191,\n",
            "       0.7759283 , 0.83354673, 0.88476312, 0.80793854, 0.74391805,\n",
            "       0.73111396, 0.73751601, 0.7503201 , 0.73751601, 0.67349552,\n",
            "       0.62227913, 0.62227913, 0.55185659, 0.59667093, 0.54545455]), array([0.21254802, 0.21254802, 0.20614597, 0.2637644 , 0.25096031,\n",
            "       0.35339309, 0.41741357, 0.5134443 , 0.53265045, 0.50704225,\n",
            "       0.5006402 , 0.5006402 , 0.49423816, 0.54545455, 0.56466069,\n",
            "       0.55825864, 0.5262484 , 0.61587708, 0.71830986, 0.64788732,\n",
            "       0.71190781, 0.67989757, 0.82074264, 0.90396927, 1.        ,\n",
            "       0.94878361, 0.82714469, 0.81434059, 0.75672215, 0.62227913,\n",
            "       0.61587708, 0.64788732, 0.61587708, 0.51984635, 0.5134443 ,\n",
            "       0.48143406, 0.54545455, 0.64148528, 0.59667093, 0.73111396,\n",
            "       0.82074264, 0.75672215, 0.78873239, 0.72471191, 0.7759283 ,\n",
            "       0.83354673, 0.88476312, 0.80793854, 0.74391805, 0.73111396,\n",
            "       0.73751601, 0.7503201 , 0.73751601, 0.67349552, 0.62227913,\n",
            "       0.62227913, 0.55185659, 0.59667093, 0.54545455, 0.48143406])]\n",
            "[0.4814340588988475, 0.5838668373879641]\n",
            "\n"
          ]
        }
      ]
    },
    {
      "cell_type": "code",
      "source": [
        "# Convert x_train and y_train to numpy arrays\n",
        "x_train, y_train = np.array(x_train), np.array(y_train)"
      ],
      "metadata": {
        "id": "7kWKoYNWeOkA"
      },
      "execution_count": 9,
      "outputs": []
    },
    {
      "cell_type": "code",
      "source": [
        "# Reshape the data\n",
        "x_train = np.reshape(x_train, (x_train.shape[0], x_train.shape[1], 1))\n",
        "x_train.shape"
      ],
      "metadata": {
        "colab": {
          "base_uri": "https://localhost:8080/"
        },
        "id": "til65pozUnQp",
        "outputId": "479da89b-e19a-4c70-faa1-79a8d7212e59"
      },
      "execution_count": 10,
      "outputs": [
        {
          "output_type": "execute_result",
          "data": {
            "text/plain": [
              "(20, 60, 1)"
            ]
          },
          "metadata": {},
          "execution_count": 10
        }
      ]
    },
    {
      "cell_type": "code",
      "source": [
        "# Build the LSTM Model\n",
        "model = Sequential()\n",
        "model.add(LSTM(50, return_sequences= True, input_shape = (x_train.shape[1], 1)))\n",
        "model.add(LSTM(50, return_sequences= False))\n",
        "model.add(Dense(25))\n",
        "model.add(Dense(1))"
      ],
      "metadata": {
        "id": "piheY3waUvvj"
      },
      "execution_count": 11,
      "outputs": []
    },
    {
      "cell_type": "code",
      "source": [
        "# Compile the model\n",
        "model.compile(optimizer='adam', loss='mean_squared_error')"
      ],
      "metadata": {
        "id": "92GqMFJcXvZv"
      },
      "execution_count": 12,
      "outputs": []
    },
    {
      "cell_type": "code",
      "source": [
        "# Train the model\n",
        "model.fit(x_train, y_train, batch_size=1, epochs=1)"
      ],
      "metadata": {
        "colab": {
          "base_uri": "https://localhost:8080/"
        },
        "id": "RHpeAbiXYI-t",
        "outputId": "705e1442-7833-4cdd-bdf0-e3323631d07a"
      },
      "execution_count": 13,
      "outputs": [
        {
          "output_type": "stream",
          "name": "stdout",
          "text": [
            "20/20 [==============================] - 3s 18ms/step - loss: 0.0171\n"
          ]
        },
        {
          "output_type": "execute_result",
          "data": {
            "text/plain": [
              "<keras.callbacks.History at 0x7f634eb294d0>"
            ]
          },
          "metadata": {},
          "execution_count": 13
        }
      ]
    },
    {
      "cell_type": "code",
      "source": [
        "# Create the testing data set\n",
        "# Create a new array containing scaled values\n",
        "test_data = scaled_data[training_data_len - 60: , :]\n",
        "# Create the data sets x_test and y_test\n",
        "x_test = []\n",
        "y_test = dataset[training_data_len: , :]\n",
        "for i in range(60, len(test_data)):\n",
        "  x_test.append(test_data[i-60:i,0])\n",
        "  "
      ],
      "metadata": {
        "id": "a4y-fwAVY_D3"
      },
      "execution_count": 14,
      "outputs": []
    },
    {
      "cell_type": "code",
      "source": [
        "# Convert the data to a numpy array\n",
        "x_test = np.array(x_test)"
      ],
      "metadata": {
        "id": "FHUyzBtjbekd"
      },
      "execution_count": 15,
      "outputs": []
    },
    {
      "cell_type": "code",
      "source": [
        "# Reshape the data\n",
        "x_test = np.reshape(x_test, (x_test.shape[0], x_test.shape[1], 1))"
      ],
      "metadata": {
        "id": "aDPyT8HYbu3_"
      },
      "execution_count": 16,
      "outputs": []
    },
    {
      "cell_type": "code",
      "source": [
        "# Get the models predicted price values\n",
        "predictions = model.predict(x_test)\n",
        "predictions = scaler.inverse_transform(predictions)"
      ],
      "metadata": {
        "id": "rTJDnf_3dfVj"
      },
      "execution_count": 17,
      "outputs": []
    },
    {
      "cell_type": "code",
      "source": [
        "# Get the root mean square errors (RMSE)\n",
        "rmse = np.sqrt(np.mean(predictions - y_test)**2)\n",
        "rmse"
      ],
      "metadata": {
        "colab": {
          "base_uri": "https://localhost:8080/"
        },
        "id": "kSvW1u5NeKvf",
        "outputId": "34bdda17-d394-4e35-bbce-29bc72d2ad30"
      },
      "execution_count": 18,
      "outputs": [
        {
          "output_type": "execute_result",
          "data": {
            "text/plain": [
              "800.5044973273026"
            ]
          },
          "metadata": {},
          "execution_count": 18
        }
      ]
    },
    {
      "cell_type": "code",
      "source": [
        "# Plot the data\n",
        "train = data[:training_data_len]\n",
        "valid = data[training_data_len:]\n",
        "valid['Predictions'] = predictions\n",
        "# Visualize the data\n",
        "plt.figure(figsize=(16,8))\n",
        "plt.title('INCO Graph and Prediction')\n",
        "plt.xlabel('Date', fontsize=18)\n",
        "plt.ylabel('Close Price IDR(Rp)', fontsize=18)\n",
        "plt.plot(train['Close'])\n",
        "plt.plot(valid[['Close', 'Predictions']])\n",
        "plt.legend(['Train', 'Val', 'Predictions'], loc='lower right')\n",
        "plt.show()"
      ],
      "metadata": {
        "colab": {
          "base_uri": "https://localhost:8080/",
          "height": 665
        },
        "id": "xnmMDshges-S",
        "outputId": "dd446de2-8dd8-49f8-f4b8-87f4fd6456cf"
      },
      "execution_count": 19,
      "outputs": [
        {
          "output_type": "stream",
          "name": "stderr",
          "text": [
            "/usr/local/lib/python3.7/dist-packages/ipykernel_launcher.py:4: SettingWithCopyWarning: \n",
            "A value is trying to be set on a copy of a slice from a DataFrame.\n",
            "Try using .loc[row_indexer,col_indexer] = value instead\n",
            "\n",
            "See the caveats in the documentation: https://pandas.pydata.org/pandas-docs/stable/user_guide/indexing.html#returning-a-view-versus-a-copy\n",
            "  after removing the cwd from sys.path.\n"
          ]
        },
        {
          "output_type": "display_data",
          "data": {
            "text/plain": [
              "<Figure size 1152x576 with 1 Axes>"
            ],
            "image/png": "[encoded data removed]"
          },
          "metadata": {}
        }
      ]
    },
    {
      "cell_type": "code",
      "source": [
        "# Show the valid and prediction prices\n",
        "valid"
      ],
      "metadata": {
        "colab": {
          "base_uri": "https://localhost:8080/",
          "height": 677
        },
        "id": "t6WXQ8thg5qi",
        "outputId": "aa2f4356-a99d-495e-8f0b-ae240588dc97"
      },
      "execution_count": 20,
      "outputs": [
        {
          "output_type": "execute_result",
          "data": {
            "text/plain": [
              "             Close  Predictions\n",
              "Date                           \n",
              "2022-07-18  4880.0  5080.163086\n",
              "2022-07-19  5150.0  5051.837891\n",
              "2022-07-20  5150.0  5030.081055\n",
              "2022-07-21  5200.0  5013.813965\n",
              "2022-07-22  5700.0  5002.869629\n",
              "2022-07-25  5575.0  5003.182129\n",
              "2022-07-26  5700.0  5009.845215\n",
              "2022-07-27  5650.0  5022.747070\n",
              "2022-07-28  6175.0  5038.941406\n",
              "2022-07-29  6100.0  5064.451660\n",
              "2022-08-01  6350.0  5094.551758\n",
              "2022-08-02  6050.0  5130.667969\n",
              "2022-08-03  6100.0  5165.253906\n",
              "2022-08-04  6100.0  5198.361816\n",
              "2022-08-05  6100.0  5229.007812\n",
              "2022-08-08  6325.0  5256.652832\n",
              "2022-08-09  6750.0  5284.483887\n",
              "2022-08-10  6575.0  5317.769531\n",
              "2022-08-11  6925.0  5350.731934"
            ],
            "text/html": [
              "\n",
              "  <div id=\"df-eef84e45-9b7a-43ea-9458-71e530c4e727\">\n",
              "    <div class=\"colab-df-container\">\n",
              "      <div>\n",
              "<style scoped>\n",
              "    .dataframe tbody tr th:only-of-type {\n",
              "        vertical-align: middle;\n",
              "    }\n",
              "\n",
              "    .dataframe tbody tr th {\n",
              "        vertical-align: top;\n",
              "    }\n",
              "\n",
              "    .dataframe thead th {\n",
              "        text-align: right;\n",
              "    }\n",
              "</style>\n",
              "<table border=\"1\" class=\"dataframe\">\n",
              "  <thead>\n",
              "    <tr style=\"text-align: right;\">\n",
              "      <th></th>\n",
              "      <th>Close</th>\n",
              "      <th>Predictions</th>\n",
              "    </tr>\n",
              "    <tr>\n",
              "      <th>Date</th>\n",
              "      <th></th>\n",
              "      <th></th>\n",
              "    </tr>\n",
              "  </thead>\n",
              "  <tbody>\n",
              "    <tr>\n",
              "      <th>2022-07-18</th>\n",
              "      <td>4880.0</td>\n",
              "      <td>5080.163086</td>\n",
              "    </tr>\n",
              "    <tr>\n",
              "      <th>2022-07-19</th>\n",
              "      <td>5150.0</td>\n",
              "      <td>5051.837891</td>\n",
              "    </tr>\n",
              "    <tr>\n",
              "      <th>2022-07-20</th>\n",
              "      <td>5150.0</td>\n",
              "      <td>5030.081055</td>\n",
              "    </tr>\n",
              "    <tr>\n",
              "      <th>2022-07-21</th>\n",
              "      <td>5200.0</td>\n",
              "      <td>5013.813965</td>\n",
              "    </tr>\n",
              "    <tr>\n",
              "      <th>2022-07-22</th>\n",
              "      <td>5700.0</td>\n",
              "      <td>5002.869629</td>\n",
              "    </tr>\n",
              "    <tr>\n",
              "      <th>2022-07-25</th>\n",
              "      <td>5575.0</td>\n",
              "      <td>5003.182129</td>\n",
              "    </tr>\n",
              "    <tr>\n",
              "      <th>2022-07-26</th>\n",
              "      <td>5700.0</td>\n",
              "      <td>5009.845215</td>\n",
              "    </tr>\n",
              "    <tr>\n",
              "      <th>2022-07-27</th>\n",
              "      <td>5650.0</td>\n",
              "      <td>5022.747070</td>\n",
              "    </tr>\n",
              "    <tr>\n",
              "      <th>2022-07-28</th>\n",
              "      <td>6175.0</td>\n",
              "      <td>5038.941406</td>\n",
              "    </tr>\n",
              "    <tr>\n",
              "      <th>2022-07-29</th>\n",
              "      <td>6100.0</td>\n",
              "      <td>5064.451660</td>\n",
              "    </tr>\n",
              "    <tr>\n",
              "      <th>2022-08-01</th>\n",
              "      <td>6350.0</td>\n",
              "      <td>5094.551758</td>\n",
              "    </tr>\n",
              "    <tr>\n",
              "      <th>2022-08-02</th>\n",
              "      <td>6050.0</td>\n",
              "      <td>5130.667969</td>\n",
              "    </tr>\n",
              "    <tr>\n",
              "      <th>2022-08-03</th>\n",
              "      <td>6100.0</td>\n",
              "      <td>5165.253906</td>\n",
              "    </tr>\n",
              "    <tr>\n",
              "      <th>2022-08-04</th>\n",
              "      <td>6100.0</td>\n",
              "      <td>5198.361816</td>\n",
              "    </tr>\n",
              "    <tr>\n",
              "      <th>2022-08-05</th>\n",
              "      <td>6100.0</td>\n",
              "      <td>5229.007812</td>\n",
              "    </tr>\n",
              "    <tr>\n",
              "      <th>2022-08-08</th>\n",
              "      <td>6325.0</td>\n",
              "      <td>5256.652832</td>\n",
              "    </tr>\n",
              "    <tr>\n",
              "      <th>2022-08-09</th>\n",
              "      <td>6750.0</td>\n",
              "      <td>5284.483887</td>\n",
              "    </tr>\n",
              "    <tr>\n",
              "      <th>2022-08-10</th>\n",
              "      <td>6575.0</td>\n",
              "      <td>5317.769531</td>\n",
              "    </tr>\n",
              "    <tr>\n",
              "      <th>2022-08-11</th>\n",
              "      <td>6925.0</td>\n",
              "      <td>5350.731934</td>\n",
              "    </tr>\n",
              "  </tbody>\n",
              "</table>\n",
              "</div>\n",
              "      <button class=\"colab-df-convert\" onclick=\"convertToInteractive('df-eef84e45-9b7a-43ea-9458-71e530c4e727')\"\n",
              "              title=\"Convert this dataframe to an interactive table.\"\n",
              "              style=\"display:none;\">\n",
              "        \n",
              "  <svg xmlns=\"http://www.w3.org/2000/svg\" height=\"24px\"viewBox=\"0 0 24 24\"\n",
              "       width=\"24px\">\n",
              "    <path d=\"M0 0h24v24H0V0z\" fill=\"none\"/>\n",
              "    <path d=\"M18.56 5.44l.94 2.06.94-2.06 2.06-.94-2.06-.94-.94-2.06-.94 2.06-2.06.94zm-11 1L8.5 8.5l.94-2.06 2.06-.94-2.06-.94L8.5 2.5l-.94 2.06-2.06.94zm10 10l.94 2.06.94-2.06 2.06-.94-2.06-.94-.94-2.06-.94 2.06-2.06.94z\"/><path d=\"M17.41 7.96l-1.37-1.37c-.4-.4-.92-.59-1.43-.59-.52 0-1.04.2-1.43.59L10.3 9.45l-7.72 7.72c-.78.78-.78 2.05 0 2.83L4 21.41c.39.39.9.59 1.41.59.51 0 1.02-.2 1.41-.59l7.78-7.78 2.81-2.81c.8-.78.8-2.07 0-2.86zM5.41 20L4 18.59l7.72-7.72 1.47 1.35L5.41 20z\"/>\n",
              "  </svg>\n",
              "      </button>\n",
              "      \n",
              "  <style>\n",
              "    .colab-df-container {\n",
              "      display:flex;\n",
              "      flex-wrap:wrap;\n",
              "      gap: 12px;\n",
              "    }\n",
              "\n",
              "    .colab-df-convert {\n",
              "      background-color: #E8F0FE;\n",
              "      border: none;\n",
              "      border-radius: 50%;\n",
              "      cursor: pointer;\n",
              "      display: none;\n",
              "      fill: #1967D2;\n",
              "      height: 32px;\n",
              "      padding: 0 0 0 0;\n",
              "      width: 32px;\n",
              "    }\n",
              "\n",
              "    .colab-df-convert:hover {\n",
              "      background-color: #E2EBFA;\n",
              "      box-shadow: 0px 1px 2px rgba(60, 64, 67, 0.3), 0px 1px 3px 1px rgba(60, 64, 67, 0.15);\n",
              "      fill: #174EA6;\n",
              "    }\n",
              "\n",
              "    [theme=dark] .colab-df-convert {\n",
              "      background-color: #3B4455;\n",
              "      fill: #D2E3FC;\n",
              "    }\n",
              "\n",
              "    [theme=dark] .colab-df-convert:hover {\n",
              "      background-color: #434B5C;\n",
              "      box-shadow: 0px 1px 3px 1px rgba(0, 0, 0, 0.15);\n",
              "      filter: drop-shadow(0px 1px 2px rgba(0, 0, 0, 0.3));\n",
              "      fill: #FFFFFF;\n",
              "    }\n",
              "  </style>\n",
              "\n",
              "      <script>\n",
              "        const buttonEl =\n",
              "          document.querySelector('#df-eef84e45-9b7a-43ea-9458-71e530c4e727 button.colab-df-convert');\n",
              "        buttonEl.style.display =\n",
              "          google.colab.kernel.accessAllowed ? 'block' : 'none';\n",
              "\n",
              "        async function convertToInteractive(key) {\n",
              "          const element = document.querySelector('#df-eef84e45-9b7a-43ea-9458-71e530c4e727');\n",
              "          const dataTable =\n",
              "            await google.colab.kernel.invokeFunction('convertToInteractive',\n",
              "                                                     [key], {});\n",
              "          if (!dataTable) return;\n",
              "\n",
              "          const docLinkHtml = 'Like what you see? Visit the ' +\n",
              "            '<a target=\"_blank\" href=https://colab.research.google.com/notebooks/data_table.ipynb>data table notebook</a>'\n",
              "            + ' to learn more about interactive tables.';\n",
              "          element.innerHTML = '';\n",
              "          dataTable['output_type'] = 'display_data';\n",
              "          await google.colab.output.renderOutput(dataTable, element);\n",
              "          const docLink = document.createElement('div');\n",
              "          docLink.innerHTML = docLinkHtml;\n",
              "          element.appendChild(docLink);\n",
              "        }\n",
              "      </script>\n",
              "    </div>\n",
              "  </div>\n",
              "  "
            ]
          },
          "metadata": {},
          "execution_count": 20
        }
      ]
    },
    {
      "cell_type": "code",
      "source": [
        "# Get the quotes\n",
        "inco_quote = yf.download('INCO.JK', data_source ='yahoo', start = '2022-03-12', end = '2022-08-12')\n",
        "# Create a new dataframe\n",
        "new_df = inco_quote.filter(['Close'])\n",
        "# Get the last 60 day closing price values and convert the dataframe to an array\n",
        "last_60_days = new_df[-60:].values\n",
        "# Scale the data to be values between 0 and 1\n",
        "last_60_day_scaled = scaler.transform(last_60_days)\n",
        "# Create an empty list\n",
        "X_test = []\n",
        "# Append the past 60 days \n",
        "X_test.append(last_60_day_scaled)\n",
        "# Convert the X_test data set to a numpy array\n",
        "X_test = np.array(X_test)\n",
        "# Reshape the data\n",
        "X_test = np.reshape(X_test, (X_test.shape[0], X_test.shape[1], 1))\n",
        "# Get the predicted scaled price\n",
        "pred_price = model.predict(X_test)\n",
        "# Undo the scaling\n",
        "pred_price = scaler.inverse_transform(pred_price)\n",
        "print(pred_price)"
      ],
      "metadata": {
        "colab": {
          "base_uri": "https://localhost:8080/"
        },
        "id": "YnybV4v2hkzp",
        "outputId": "1c8bf1e5-fc8e-4034-b85b-ddc3994b74a1"
      },
      "execution_count": 22,
      "outputs": [
        {
          "output_type": "stream",
          "name": "stdout",
          "text": [
            "\r[*********************100%***********************]  1 of 1 completed\n",
            "[[5388.1143]]\n"
          ]
        }
      ]
    },
    {
      "cell_type": "code",
      "source": [
        "# Get the quote\n",
        "inco_quote_close = yf.download('INCO.JK', data_source ='yahoo', start = '2022-08-12', end = '2022-08-12')\n",
        "print(inco_quote_close['Close'])"
      ],
      "metadata": {
        "id": "7_81phuzjhGF",
        "colab": {
          "base_uri": "https://localhost:8080/"
        },
        "outputId": "08df4912-8f90-4e97-9056-0ac2d87023a7"
      },
      "execution_count": 23,
      "outputs": [
        {
          "output_type": "stream",
          "name": "stdout",
          "text": [
            "\r[*********************100%***********************]  1 of 1 completed\n",
            "\n",
            "1 Failed download:\n",
            "- INCO.JK: No data found for this date range, symbol may be delisted\n",
            "Series([], Name: Close, dtype: float64)\n"
          ]
        }
      ]
    },
    {
      "cell_type": "code",
      "source": [
        ""
      ],
      "metadata": {
        "id": "Kkr6KwH-Rp63"
      },
      "execution_count": null,
      "outputs": []
    }
  ]
}